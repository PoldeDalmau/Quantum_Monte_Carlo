{
 "cells": [
  {
   "cell_type": "code",
   "execution_count": 1,
   "id": "familiar-pilot",
   "metadata": {},
   "outputs": [],
   "source": [
    "import numpy as np\n",
    "import random\n",
    "import matplotlib.pyplot as plt\n",
    "from time import time"
   ]
  },
  {
   "cell_type": "code",
   "execution_count": 2,
   "id": "multiple-accessory",
   "metadata": {},
   "outputs": [],
   "source": [
    "n_walkers = 40\n",
    "n_hopsperwalker = 2_000\n",
    "\n",
    "n_samples = n_walkers * n_hopsperwalker\n",
    "remove = int(1000)\n",
    "n_used = n_samples-remove*n_walkers\n",
    "\n",
    "hop_size = 0.42                                    # set it in order to get alpha of about 0.5\n",
    "#random.seed(10)"
   ]
  },
  {
   "cell_type": "code",
   "execution_count": 3,
   "id": "leading-thanksgiving",
   "metadata": {},
   "outputs": [],
   "source": [
    "run -i Skeleton.py "
   ]
  },
  {
   "cell_type": "markdown",
   "id": "handy-yellow",
   "metadata": {},
   "source": [
    "$\\frac{\\mathrm{d}E(\\alpha)}{\\mathrm{d}\\alpha}  = 2 \\left( \\left<E_L \\frac{\\mathrm{d}\\ln{\\psi_T}}{\\mathrm{d}\\alpha} \\right>-E \\left< \\frac{\\mathrm{d}\\ln{\\psi_T}}{\\mathrm{d}\\alpha} \\right>\\right) $"
   ]
  },
  {
   "cell_type": "code",
   "execution_count": 13,
   "id": "listed-gamma",
   "metadata": {},
   "outputs": [
    {
     "name": "stdout",
     "output_type": "stream",
     "text": [
      "alpha old: 1 \n",
      " alpha new: 0.9783966945887317\n",
      "alpha old: 0.9783966945887317 \n",
      " alpha new: 0.9562938880451874\n",
      "alpha old: 0.9562938880451874 \n",
      " alpha new: 0.9345931764091588\n",
      "alpha old: 0.9345931764091588 \n",
      " alpha new: 0.911448919159275\n",
      "alpha old: 0.911448919159275 \n",
      " alpha new: 0.8889425792591472\n",
      "alpha old: 0.8889425792591472 \n",
      " alpha new: 0.8663015231836557\n",
      "alpha old: 0.8663015231836557 \n",
      " alpha new: 0.8426751579747462\n",
      "alpha old: 0.8426751579747462 \n",
      " alpha new: 0.8178138235534393\n",
      "alpha old: 0.8178138235534393 \n",
      " alpha new: 0.7930280032282826\n",
      "alpha old: 0.7930280032282826 \n",
      " alpha new: 0.7677044238691927\n",
      "alpha old: 0.7677044238691927 \n",
      " alpha new: 0.7421710328465202\n",
      "alpha old: 0.7421710328465202 \n",
      " alpha new: 0.7145506660141302\n",
      "alpha old: 0.7145506660141302 \n",
      " alpha new: 0.6867053711146468\n",
      "alpha old: 0.6867053711146468 \n",
      " alpha new: 0.6596124604423771\n",
      "alpha old: 0.6596124604423771 \n",
      " alpha new: 0.6309536300444094\n",
      "alpha old: 0.6309536300444094 \n",
      " alpha new: 0.6035523781738982\n",
      "alpha old: 0.6035523781738982 \n",
      " alpha new: 0.5748566780280518\n",
      "alpha old: 0.5748566780280518 \n",
      " alpha new: 0.5467656955846644\n",
      "alpha old: 0.5467656955846644 \n",
      " alpha new: 0.5145711567708128\n",
      "alpha old: 0.5145711567708128 \n",
      " alpha new: 0.4852664675636834\n",
      "Simulation time in seconds 134.96892404556274\n"
     ]
    }
   ],
   "source": [
    "#Helium\n",
    "alpha = 1\n",
    "list_alpha = [alpha]\n",
    "list_energies = [-3]\n",
    "list_deda = [1]\n",
    "tic = time()\n",
    "pdfparameters = list_alpha\n",
    "functionparameters = list_alpha\n",
    "variances = [0]\n",
    "iterations = 20\n",
    "\n",
    "\n",
    "for i in range(iterations):\n",
    "    \n",
    "    pdfparameters = [list_alpha[-1]]\n",
    "    functionparameters = [list_alpha[-1]]\n",
    "    dist_x1, dist_y1, dist_z1, dist_x2, dist_y2, dist_z2, accept_ratio, r_rp, rp_r = mcmc_sample_6D(hops=n_samples, pdf = psi2_Helium, pdfparam=pdfparameters)\n",
    "    dist_x1 = burn_in(states=dist_x1, n_removed=remove)\n",
    "    dist_y1 = burn_in(states=dist_y1, n_removed=remove)\n",
    "    dist_z1 = burn_in(states=dist_z1, n_removed=remove)\n",
    "    dist_x2 = burn_in(states=dist_x2, n_removed=remove)\n",
    "    dist_y2 = burn_in(states=dist_y2, n_removed=remove)\n",
    "    dist_z2 = burn_in(states=dist_z2, n_removed=remove)\n",
    "    #integrate to find energy\n",
    "    Energy, variance= integrate_6D(func=E_loc, funcparam=functionparameters, dist_x1_=dist_x1, dist_y1_=dist_y1, dist_z1_=dist_z1, dist_x2_=dist_x2, dist_y2_=dist_y2, dist_z2_=dist_z2)\n",
    "    \n",
    "    #compute derivative \n",
    "    left, _ = integrate_6D(func=E_loc_dlpsida, funcparam=functionparameters, dist_x1_=dist_x1, dist_y1_=dist_y1, dist_z1_=dist_z1, dist_x2_=dist_x2, dist_y2_=dist_y2, dist_z2_=dist_z2)\n",
    "    right, _ = integrate_6D(func=dlnpsida, funcparam=functionparameters, dist_x1_=dist_x1, dist_y1_=dist_y1, dist_z1_=dist_z1, dist_x2_=dist_x2, dist_y2_=dist_y2, dist_z2_=dist_z2)\n",
    "    dEda = 2*(left-Energy*right)\n",
    "    g = 0.5\n",
    "    alpha_new = alpha - g*dEda\n",
    "    #alpha_new = list_alpha[-1] + 0.025\n",
    "    print(\"alpha old:\", list_alpha[-1], \"\\n alpha new:\", alpha_new)\n",
    "    \n",
    "    list_energies.append(Energy)\n",
    "    list_alpha.append(alpha_new)\n",
    "    alpha = alpha_new\n",
    "    variances.append(variance)\n",
    "    list_deda.append(dEda)\n",
    "\n",
    "toc = time()\n",
    "print(\"Simulation time in seconds\", toc-tic)"
   ]
  },
  {
   "cell_type": "code",
   "execution_count": 14,
   "id": "stock-louisville",
   "metadata": {},
   "outputs": [
    {
     "name": "stdout",
     "output_type": "stream",
     "text": [
      "[-3, -2.8823198400715215, -2.853134352157735, -2.852180887720849, -2.865655755021239, -2.858951044192684, -2.82406295635754, -2.840635335672393, -2.8752314800885252, -2.8449478033277606, -2.8709304426672517, -2.8652706977144904, -2.857421500229262, -2.872185360959026, -2.870414929237305, -2.868416713956251, -2.866847418476407, -2.883113276007255, -2.87140074093545, -2.8785179293014016, -2.8968329706630627]\n"
     ]
    }
   ],
   "source": [
    "print(list_energies)"
   ]
  },
  {
   "cell_type": "raw",
   "id": "searching-prototype",
   "metadata": {},
   "source": [
    "#Old Helium\n",
    "#Psi sampling and E(a) calculation\n",
    "dist_x1_psi, dist_y1_psi, dist_z1_psi, dist_x2_psi, dist_y2_psi, dist_z2_psi,  accept_ratio_psi, r_rp_psi, rp_r_psi = mcmc_sample_6D(hops=n_samples, pdf = psi2_Helium, pdfparam=pdfparameters)\n",
    "integral_psi, variance_psi= integrate_6D(func=E_loc, funcparam=functionparameters, dist_x1_=dist_x1_psi, dist_y1_=dist_y1_psi, dist_z1_=dist_z1_psi, dist_x2_=dist_x2_psi, dist_y2_=dist_y2_psi, dist_z2_=dist_z2_psi)\n",
    "strin = \"alpha: \" + str(list_alpha[0]) + \"; integral psi·E_L: \" + str((integral_psi)) + \" $\\pm$ \" + str(variance_psi) + \"; accepted/total = \" + str(accept_ratio_psi)\n",
    "print(strin)\n",
    "\n",
    "#computation of dE/da\n",
    "dist_x1_E, dist_y1_E, dist_z1_E, dist_x2_E, dist_y2_E, dist_z2_E,  accept_ratio_E, r_rp_E, rp_r_E = mcmc_sample_6D(hops=n_samples, pdf = dlnpsida, pdfparam=pdfparameters)\n",
    "integral_E, _ = integrate_6D(func=E_loc, funcparam=functionparameters, dist_x1_=dist_x1_E, dist_y1_=dist_y1_E, dist_z1_=dist_z1_E, dist_x2_=dist_x2_E, dist_y2_=dist_y2_E, dist_z2_=dist_z2_E)\n",
    "integral_dlnpsi, _ = integrate_6D(func=one, funcparam=functionparameters, dist_x1_=dist_x1_E, dist_y1_=dist_y1_E, dist_z1_=dist_z1_E, dist_x2_=dist_x2_E, dist_y2_=dist_y2_E, dist_z2_=dist_z2_E)\n",
    "\n",
    "E_psi2 = integral_psi * integral_dlnpsi\n",
    "E_Lpsi2= integral_E\n",
    "dEda = 2*(E_Lpsi2-E_psi2)\n",
    "\n",
    "g = 0.01\n",
    "alpha_new = list_alpha[0]-g*dEda\n",
    "print(\"alpha old:\", list_alpha[0], \"\\n alpha new:\", alpha_new)"
   ]
  },
  {
   "cell_type": "raw",
   "id": "sharing-import",
   "metadata": {},
   "source": [
    "#Hydrogen:\n",
    "#list_alpha = [0.8, 0.9, 1.0, 1.1, 1.2]\n",
    "#list_alpha = [1]\n",
    "alpha = 0.8\n",
    "list_alpha = [alpha]\n",
    "list_energies = [-3]\n",
    "list_deda = [1]\n",
    "tic = time()\n",
    "variances = [0]\n",
    "iterations = 20\n",
    "tic = time()\n",
    "\n",
    "for i in range(iterations):\n",
    "    #Hydrogen\n",
    "    pdfparameters = [list_alpha[-1]]\n",
    "    functionparameters = [list_alpha[-1]]\n",
    "    dist_x, dist_y, dist_z, accept_ratio, r_rp, rp_r = mcmc_sample_3D(hops=n_samples, pdf = psi_Hydrogen, pdfparam=pdfparameters)\n",
    "    dist_x = burn_in(states=dist_x, n_removed=remove)\n",
    "    dist_y = burn_in(states=dist_y, n_removed=remove)\n",
    "    dist_z = burn_in(states=dist_z, n_removed=remove)\n",
    "    #integrate to find energy\n",
    "    Energy, variance= integrate_3D(func=E_L_Hydrogen, funcparam=functionparameters, dist_x_=dist_x, dist_y_=dist_y, dist_z_=dist_z)\n",
    "    \n",
    "    #compute derivative \n",
    "    left, _ = integrate_3D(func=E_L_Hydrogentimesr, funcparam=functionparameters, dist_x_=dist_x, dist_y_=dist_y, dist_z_=dist_z)\n",
    "    right, _ = integrate_3D(func=negativer, funcparam=functionparameters, dist_x_=dist_x, dist_y_=dist_y, dist_z_=dist_z)\n",
    "    dEda = 2*(left-Energy*right)\n",
    "    g = 0.1\n",
    "    alpha_new = alpha - g*dEda\n",
    "    #alpha_new = list_alpha[-1] + 0.025\n",
    "    print(\"alpha old:\", list_alpha[-1], \"\\n alpha new:\", alpha_new)\n",
    "    \n",
    "    list_energies.append(Energy)\n",
    "    list_alpha.append(alpha_new)\n",
    "    alpha = alpha_new\n",
    "    variances.append(variance)\n",
    "    list_deda.append(dEda)\n",
    "#Hydrogen normal calculation\n",
    "#for i in list_alpha:\n",
    "#    pdfparameters = [i]\n",
    "#    functionparameters = [i]\n",
    "#    dist_x, dist_y, dist_z, accept_ratio, r_rp, rp_r = mcmc_sample_3D(hops=n_samples, pdf = psi_Hydrogen, pdfparam=pdfparameters)\n",
    "#    integral, variance= integrate_3D(func=E_L_Hydrogen, funcparam=functionparameters, dist_x_=dist_x, dist_y_=dist_y, dist_z_=dist_z)\n",
    "#    strin = \"alpha: \" + str(i) + \"; integral: \" + str((integral)) + \" $\\pm$ \" + str(variance) + \"; accepted/total = \" + str(accept_ratio)\n",
    "#    print(strin)\n",
    "toc = time()\n",
    "print(\"Simulation time in seconds\", toc-tic)"
   ]
  },
  {
   "cell_type": "raw",
   "id": "exterior-partnership",
   "metadata": {},
   "source": [
    "#Plot for H minimization\n",
    "plt.plot(list_alpha[1:], list_energies[1:], label = r\"$E(\\alpha)$\")\n",
    "plt.plot(list_alpha[1:], list_deda[1:], label = r\"$dE/d\\alpha$\")\n",
    "dummy = np.linspace(0.8,1.05,100)\n",
    "f = dummy - 1\n",
    "plt.plot(dummy, f,  label = r\"Analytic $dE/d\\alpha$\")\n",
    "plt.legend()\n",
    "plt.show()"
   ]
  },
  {
   "cell_type": "raw",
   "id": "incorporated-jimmy",
   "metadata": {},
   "source": [
    "#Detailed balance\n",
    "a, b = np.copy(r_rp), np.copy(rp_r)\n",
    "plt.hist(b-a, bins = 100)\n",
    "plt.xlabel(\" $p(R)A_{RR'} - p(R')A_{R'R} $ \")\n",
    "plt.ylabel(\"Counts\")\n",
    "plt.title(\"Detailed balance\")\n",
    "plt.show()\n",
    "print(\"max(a-b)\",max(a-b))\n",
    "print(\"max(a)\", max(a))\n",
    "print(\"max(b)\", max(b))\n",
    "print(len(a))"
   ]
  },
  {
   "cell_type": "raw",
   "id": "weighted-episode",
   "metadata": {},
   "source": [
    "#Histrogram vs plot\n",
    "#plot_dist(dist_x, 40, psi_Hydrogen, pdfparameters[0])\n",
    "#plot_dist(dist_y, 40, psi_Hydrogen, pdfparameters[0])\n",
    "#plot_dist(dist_z, 40, psi_Hydrogen, pdfparameters[0])\n",
    "dist_x = np.array(dist_x)\n",
    "dist_y = np.array(dist_y)\n",
    "dist_z = np.array(dist_z)\n",
    "#print(\"L_x = \", len(dist_x))\n",
    "#print(\"L_y = \", len(dist_y))\n",
    "#print(\"L_z = \", len(dist_z))\n",
    "dist_r = np.sqrt(dist_x**2 + dist_y**2 + dist_z**2)\n",
    "plot_dist(dist_x, dist_y, dist_z,dist_r, 40, psi_Hydrogen, pdfparameters[0])\n",
    "print(np.average(dist_r))\n",
    "print(np.sqrt(np.pi/(2*0.45))**3)\n",
    "print(\"max deviation from 0 in $A_{R' R}p(R') - A_{R' R}p(R')$\",max(r_rp - rp_r))\n",
    "\n",
    "#path of walkers.\n",
    "#step = np.arange(1,len(dist_r)+1)\n",
    "#plt.plot(step, dist_r)\n",
    "#plt.ylabel(\"r\")\n",
    "#plt.xlabel(\"hop number\")\n",
    "#plt.title(\"path of walkers\")\n",
    "#plt.show()"
   ]
  }
 ],
 "metadata": {
  "kernelspec": {
   "display_name": "Python 3",
   "language": "python",
   "name": "python3"
  },
  "language_info": {
   "codemirror_mode": {
    "name": "ipython",
    "version": 3
   },
   "file_extension": ".py",
   "mimetype": "text/x-python",
   "name": "python",
   "nbconvert_exporter": "python",
   "pygments_lexer": "ipython3",
   "version": "3.8.6"
  }
 },
 "nbformat": 4,
 "nbformat_minor": 5
}
