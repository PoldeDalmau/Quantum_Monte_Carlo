{
 "cells": [
  {
   "cell_type": "code",
   "execution_count": 1,
   "id": "nervous-parish",
   "metadata": {},
   "outputs": [],
   "source": [
    "import numpy as np\n",
    "import random\n",
    "import matplotlib.pyplot as plt\n",
    "from scipy.stats import gaussian_kde"
   ]
  },
  {
   "cell_type": "code",
   "execution_count": 2,
   "id": "authorized-messaging",
   "metadata": {},
   "outputs": [],
   "source": [
    "n_samples = 15_000_000\n",
    "burn_in = int(10_000)\n",
    "n_used = n_samples-burn_in\n",
    "\n",
    "hop_size = 2.2                                       # set it in order to get alpha of about 0.5\n",
    "\n",
    "mean = 0\n",
    "stddev = 1\n",
    "alpha = 0.4\n",
    "pdfparameters = [alpha]\n",
    "functionparameters = [alpha]\n",
    "#random.seed(10)"
   ]
  },
  {
   "cell_type": "code",
   "execution_count": 3,
   "id": "senior-resort",
   "metadata": {},
   "outputs": [],
   "source": [
    "run -i Skeleton.py "
   ]
  },
  {
   "cell_type": "code",
   "execution_count": 4,
   "id": "embedded-parameter",
   "metadata": {},
   "outputs": [
    {
     "name": "stdout",
     "output_type": "stream",
     "text": [
      "('alpha', 0.4, 'integral: 0.5127209446631875 $\\\\pm$ 0.025463005172136174; accepted/total = 0.5196834666666666')\n",
      "('alpha', 0.45, 'integral: 0.5027324923707128 $\\\\pm$ 0.005557776073932699; accepted/total = 0.49867333333333336')\n",
      "('alpha', 0.5, 'integral: 0.5 $\\\\pm$ 0.0; accepted/total = 0.47969133333333336')\n",
      "('alpha', 0.55, 'integral: 0.5021903824820424 $\\\\pm$ 0.004571878659738584; accepted/total = 0.4625258666666667')\n",
      "('alpha', 0.6, 'integral: 0.5083552769807341 $\\\\pm$ 0.016823167486808316; accepted/total = 0.44698346666666666')\n"
     ]
    }
   ],
   "source": [
    "list_alpha = [0.40, 0.45, 0.50, 0.55, 0.60]\n",
    "for i in list_alpha:\n",
    "    pdfparameters = [i]\n",
    "    functionparameters = [i]\n",
    "    integral, variance, acc = integrate(pdff=psi2_Harmonic, func=E_L_Harmonic, param=pdfparameters, funcparam=functionparameters)\n",
    "    strin = \"alpha\", i,\"integral: \" + str((integral)) + \" $\\pm$ \" + str(variance) + \"; accepted/total = \" + str(acc)\n",
    "    print(strin)"
   ]
  }
 ],
 "metadata": {
  "kernelspec": {
   "display_name": "Python 3",
   "language": "python",
   "name": "python3"
  },
  "language_info": {
   "codemirror_mode": {
    "name": "ipython",
    "version": 3
   },
   "file_extension": ".py",
   "mimetype": "text/x-python",
   "name": "python",
   "nbconvert_exporter": "python",
   "pygments_lexer": "ipython3",
   "version": "3.8.6"
  }
 },
 "nbformat": 4,
 "nbformat_minor": 5
}
