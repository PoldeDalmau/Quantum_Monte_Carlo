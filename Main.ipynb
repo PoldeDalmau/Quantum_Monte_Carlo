{
 "cells": [
  {
   "cell_type": "code",
   "execution_count": 1,
   "id": "remarkable-thought",
   "metadata": {},
   "outputs": [],
   "source": [
    "import numpy as np\n",
    "import random\n",
    "import matplotlib.pyplot as plt\n",
    "from time import time"
   ]
  },
  {
   "cell_type": "code",
   "execution_count": 2,
   "id": "expensive-encoding",
   "metadata": {},
   "outputs": [],
   "source": [
    "n_walkers = 40\n",
    "n_hopsperwalker = 30_000\n",
    "\n",
    "n_samples = n_walkers * n_hopsperwalker\n",
    "burn_in = int(3)\n",
    "n_used = n_samples-burn_in*n_walkers\n",
    "\n",
    "hop_size = 0.75                                    # set it in order to get alpha of about 0.5\n",
    "#random.seed(10)"
   ]
  },
  {
   "cell_type": "code",
   "execution_count": 3,
   "id": "aboriginal-lodge",
   "metadata": {},
   "outputs": [],
   "source": [
    "run -i Skeleton-CopyPol.py "
   ]
  },
  {
   "cell_type": "markdown",
   "id": "prime-classification",
   "metadata": {},
   "source": [
    "$\\frac{\\mathrm{d}E(\\alpha)}{\\mathrm{d}\\alpha}  = 2 \\left( \\left<E_L \\frac{\\mathrm{d}\\ln{\\psi_T}}{\\mathrm{d}\\alpha} \\right>-E \\left< \\frac{\\mathrm{d}\\ln{\\psi_T}}{\\mathrm{d}\\alpha} \\right>\\right) $"
   ]
  },
  {
   "cell_type": "code",
   "execution_count": 4,
   "id": "dimensional-liberia",
   "metadata": {},
   "outputs": [
    {
     "name": "stdout",
     "output_type": "stream",
     "text": [
      "alpha: 0.2; integral psi·E_L: -3.9996530583988146 $\\pm$ 9.330624076629451e-17; accepted/total = 0.5482333333333334\n",
      "alpha old: 0.2 \n",
      " alpha new: 0.2000068094539342\n",
      "Simulation time in seconds 43.50510764122009\n"
     ]
    }
   ],
   "source": [
    "#Helium\n",
    "alpha = 0.2\n",
    "list_alpha = [alpha]\n",
    "#list_alpha = [1]\n",
    "tic = time()\n",
    "pdfparameters = list_alpha\n",
    "functionparameters = list_alpha\n",
    "\n",
    "#Psi sampling and E(a) calculation\n",
    "dist_x1_psi, dist_y1_psi, dist_z1_psi, dist_x2_psi, dist_y2_psi, dist_z2_psi,  accept_ratio_psi, r_rp_psi, rp_r_psi = mcmc_sample_6D(hops=n_samples, pdf = psi2_Helium, pdfparam=pdfparameters)\n",
    "integral_psi, variance_psi= integrate_6D(func=E_loc, funcparam=functionparameters, dist_x1_=dist_x1_psi, dist_y1_=dist_y1_psi, dist_z1_=dist_z1_psi, dist_x2_=dist_x2_psi, dist_y2_=dist_y2_psi, dist_z2_=dist_z2_psi)\n",
    "strin = \"alpha: \" + str(list_alpha[0]) + \"; integral psi·E_L: \" + str((integral_psi)) + \" $\\pm$ \" + str(variance_psi) + \"; accepted/total = \" + str(accept_ratio_psi)\n",
    "print(strin)\n",
    "\n",
    "#computation of dE/da\n",
    "dist_x1_E, dist_y1_E, dist_z1_E, dist_x2_E, dist_y2_E, dist_z2_E,  accept_ratio_E, r_rp_E, rp_r_E = mcmc_sample_6D(hops=n_samples, pdf = dlnpsida, pdfparam=pdfparameters)\n",
    "integral_E, _ = integrate_6D(func=E_loc, funcparam=functionparameters, dist_x1_=dist_x1_E, dist_y1_=dist_y1_E, dist_z1_=dist_z1_E, dist_x2_=dist_x2_E, dist_y2_=dist_y2_E, dist_z2_=dist_z2_E)\n",
    "integral_dlnpsi, _ = integrate_6D(func=one, funcparam=functionparameters, dist_x1_=dist_x1_E, dist_y1_=dist_y1_E, dist_z1_=dist_z1_E, dist_x2_=dist_x2_E, dist_y2_=dist_y2_E, dist_z2_=dist_z2_E)\n",
    "\n",
    "E_psi2 = integral_psi * integral_dlnpsi\n",
    "E_Lpsi2= integral_E\n",
    "dEda = 2*(E_Lpsi2-E_psi2)\n",
    "\n",
    "g = 0.01\n",
    "alpha_new = list_alpha[0]-g*dEda\n",
    "print(\"alpha old:\", list_alpha[0], \"\\n alpha new:\", alpha_new)\n",
    "\n",
    "toc = time()\n",
    "print(\"Simulation time in seconds\", toc-tic)"
   ]
  },
  {
   "cell_type": "raw",
   "id": "subtle-notice",
   "metadata": {},
   "source": [
    "#Hydrogen:\n",
    "list_alpha = [0.8, 0.9, 1.0, 1.1, 1.2]\n",
    "#list_alpha = [1]\n",
    "tic = time()\n",
    "for i in list_alpha:\n",
    "    pdfparameters = [i]\n",
    "    functionparameters = [i]\n",
    "    dist_x, dist_y, dist_z, accept_ratio, r_rp, rp_r = mcmc_sample_3D(hops=n_samples, pdf = psi_Hydrogen, pdfparam=pdfparameters)\n",
    "    integral, variance= integrate_3D(func=E_L_Hydrogen, funcparam=functionparameters, dist_x_=dist_x, dist_y_=dist_y, dist_z_=dist_z)\n",
    "    strin = \"alpha: \" + str(i) + \"; integral: \" + str((integral)) + \" $\\pm$ \" + str(variance) + \"; accepted/total = \" + str(accept_ratio)\n",
    "    print(strin)\n",
    "toc = time()\n",
    "print(\"Simulation time in seconds\", toc-tic)"
   ]
  },
  {
   "cell_type": "raw",
   "id": "answering-twelve",
   "metadata": {},
   "source": [
    "a, b = np.copy(r_rp), np.copy(rp_r)\n",
    "plt.hist(b-a, bins = 100)\n",
    "plt.xlabel(\" $p(R)A_{RR'} - p(R')A_{R'R} $ \")\n",
    "plt.ylabel(\"Counts\")\n",
    "plt.title(\"Detailed balance\")\n",
    "plt.show()\n",
    "print(\"max(a-b)\",max(a-b))\n",
    "print(\"max(a)\", max(a))\n",
    "print(\"max(b)\", max(b))\n",
    "print(len(a))"
   ]
  },
  {
   "cell_type": "raw",
   "id": "tribal-religious",
   "metadata": {},
   "source": [
    "#plot_dist(dist_x, 40, psi_Hydrogen, pdfparameters[0])\n",
    "#plot_dist(dist_y, 40, psi_Hydrogen, pdfparameters[0])\n",
    "#plot_dist(dist_z, 40, psi_Hydrogen, pdfparameters[0])\n",
    "dist_x = np.array(dist_x)\n",
    "dist_y = np.array(dist_y)\n",
    "dist_z = np.array(dist_z)\n",
    "#print(\"L_x = \", len(dist_x))\n",
    "#print(\"L_y = \", len(dist_y))\n",
    "#print(\"L_z = \", len(dist_z))\n",
    "dist_r = np.sqrt(dist_x**2 + dist_y**2 + dist_z**2)\n",
    "plot_dist(dist_x, dist_y, dist_z,dist_r, 40, psi_Hydrogen, pdfparameters[0])\n",
    "print(np.average(dist_r))\n",
    "print(np.sqrt(np.pi/(2*0.45))**3)\n",
    "print(\"max deviation from 0 in $A_{R' R}p(R') - A_{R' R}p(R')$\",max(r_rp - rp_r))\n",
    "\n",
    "#path of walkers.\n",
    "#step = np.arange(1,len(dist_r)+1)\n",
    "#plt.plot(step, dist_r)\n",
    "#plt.ylabel(\"r\")\n",
    "#plt.xlabel(\"hop number\")\n",
    "#plt.title(\"path of walkers\")\n",
    "#plt.show()"
   ]
  },
  {
   "cell_type": "raw",
   "id": "assisted-ontario",
   "metadata": {},
   "source": [
    "trimmed_dist = burn_in(dist, n_removed)\n",
    "trimmed_dist.shape"
   ]
  },
  {
   "cell_type": "code",
   "execution_count": 5,
   "id": "capital-sheffield",
   "metadata": {},
   "outputs": [
    {
     "data": {
      "text/plain": [
       "array([24, 31])"
      ]
     },
     "execution_count": 5,
     "metadata": {},
     "output_type": "execute_result"
    }
   ],
   "source": [
    "a = [1,2,3]\n",
    "b =[4,5,6]\n",
    "c = [1,4,5]\n",
    "d = [1,3,2]\n",
    "\n",
    "r = np.array([a,b])\n",
    "m = np.array([c,d])\n",
    "\n",
    "(r*m).sum(axis=1)\n"
   ]
  }
 ],
 "metadata": {
  "kernelspec": {
   "display_name": "Python 3",
   "language": "python",
   "name": "python3"
  },
  "language_info": {
   "codemirror_mode": {
    "name": "ipython",
    "version": 3
   },
   "file_extension": ".py",
   "mimetype": "text/x-python",
   "name": "python",
   "nbconvert_exporter": "python",
   "pygments_lexer": "ipython3",
   "version": "3.8.6"
  }
 },
 "nbformat": 4,
 "nbformat_minor": 5
}
