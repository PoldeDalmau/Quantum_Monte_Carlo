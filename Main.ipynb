{
 "cells": [
  {
   "cell_type": "code",
   "execution_count": 1,
   "id": "dimensional-future",
   "metadata": {},
   "outputs": [],
   "source": [
    "import numpy as np\n",
    "import random\n",
    "import matplotlib.pyplot as plt\n",
    "from time import time"
   ]
  },
  {
   "cell_type": "code",
   "execution_count": 2,
   "id": "literary-gibraltar",
   "metadata": {},
   "outputs": [],
   "source": [
    "n_walkers = 1\n",
    "n_hopsperwalker = 3_000\n",
    "\n",
    "n_samples = n_walkers * n_hopsperwalker\n",
    "burn_in = int(40)\n",
    "n_used = n_samples-burn_in*n_walkers\n",
    "\n",
    "hop_size = 7                                    # set it in order to get alpha of about 0.5\n",
    "\n",
    "#random.seed(10)"
   ]
  },
  {
   "cell_type": "code",
   "execution_count": 3,
   "id": "disturbed-november",
   "metadata": {},
   "outputs": [],
   "source": [
    "run -i Skeleton-Copy1.py "
   ]
  },
  {
   "cell_type": "code",
   "execution_count": 4,
   "id": "dominant-syntax",
   "metadata": {},
   "outputs": [
    {
     "name": "stdout",
     "output_type": "stream",
     "text": [
      "Simulation time in seconds 0.04822587966918945\n",
      "Acc ratio: 0.3436666666666667\n"
     ]
    }
   ],
   "source": [
    "#list_alpha = [0.40, 0.45, 0.50, 0.55, 0.60]\n",
    "list_alpha = [0.45]\n",
    "tic = time()\n",
    "for i in list_alpha:\n",
    "    pdfparameters = [i]\n",
    "    functionparameters = [i]\n",
    "    dist_x, dist_y, dist_z, accept_ratio, r_rp, rp_r = mcmc_sample_3D(hops=n_samples, pdf = psi_Hydrogen, pdfparam=pdfparameters)\n",
    "    #integral, variance= integrate(pdff=psi2_Harmonic, func=E_L_Harmonic, param=pdfparameters, funcparam=functionparameters, dist_=dist)\n",
    "    #strin = \"alpha: \" + str(i) + \"; integral: \" + str((integral)) + \" $\\pm$ \" + str(variance) + \"; accepted/total = \" + str(accept_ratio)\n",
    "    #print(strin)\n",
    "toc = time()\n",
    "print(\"Simulation time in seconds\", toc-tic)\n",
    "print(\"Acc ratio:\", accept_ratio)"
   ]
  },
  {
   "cell_type": "raw",
   "id": "double-delhi",
   "metadata": {},
   "source": [
    "a, b = np.copy(r_rp), np.copy(rp_r)\n",
    "plt.hist(b-a, bins = 100)\n",
    "plt.xlabel(\" $p(R)A_{RR'} - p(R')A_{R'R} $ \")\n",
    "plt.ylabel(\"Counts\")\n",
    "plt.title(\"Detailed balance\")\n",
    "plt.show()\n",
    "print(\"max(a-b)\",max(a-b))\n",
    "print(\"max(a)\", max(a))\n",
    "print(\"max(b)\", max(b))\n",
    "print(len(a))"
   ]
  },
  {
   "cell_type": "code",
   "execution_count": 5,
   "id": "distributed-senate",
   "metadata": {},
   "outputs": [
    {
     "data": {
      "image/png": "[encoded data removed]",
      "text/plain": [
       "<Figure size 432x288 with 1 Axes>"
      ]
     },
     "metadata": {
      "needs_background": "light"
     },
     "output_type": "display_data"
    }
   ],
   "source": [
    "#plot_dist(dist_x, 40, psi_Hydrogen, pdfparameters[0])\n",
    "#plot_dist(dist_y, 40, psi_Hydrogen, pdfparameters[0])\n",
    "#plot_dist(dist_z, 40, psi_Hydrogen, pdfparameters[0])\n",
    "dist_x = np.array(dist_x)\n",
    "dist_y = np.array(dist_y)\n",
    "dist_z = np.array(dist_z)\n",
    "#print(\"L_x = \", len(dist_x))\n",
    "#print(\"L_y = \", len(dist_y))\n",
    "#print(\"L_z = \", len(dist_z))\n",
    "dist_r = np.sqrt(dist_x**2 + dist_y**2 + dist_z**2)\n",
    "plot_dist(dist_r, 40, psi_Hydrogen, pdfparameters[0])\n",
    "\n",
    "#step = np.arange(1,len(dist_x)+1)\n",
    "#plt.plot(step, dist_x)\n",
    "#plt.ylabel(\"x\")\n",
    "#plt.xlabel(\"hop number\")\n",
    "#plt.title(\"path of walkers\")\n",
    "#plt.show()"
   ]
  },
  {
   "cell_type": "code",
   "execution_count": 6,
   "id": "filled-catalyst",
   "metadata": {},
   "outputs": [
    {
     "ename": "NameError",
     "evalue": "name 'dist' is not defined",
     "output_type": "error",
     "traceback": [
      "\u001b[0;31m---------------------------------------------------------------------------\u001b[0m",
      "\u001b[0;31mNameError\u001b[0m                                 Traceback (most recent call last)",
      "\u001b[0;32m~/Project-2---QMC_pdedalmauhugue/Skeleton-Copy1.py\u001b[0m in \u001b[0;36m<module>\u001b[0;34m\u001b[0m\n\u001b[0;32m----> 1\u001b[0;31m \u001b[0mtrimmed_dist\u001b[0m \u001b[0;34m=\u001b[0m \u001b[0mburn_in\u001b[0m\u001b[0;34m(\u001b[0m\u001b[0mdist\u001b[0m\u001b[0;34m,\u001b[0m \u001b[0mn_removed\u001b[0m\u001b[0;34m)\u001b[0m\u001b[0;34m\u001b[0m\u001b[0;34m\u001b[0m\u001b[0m\n\u001b[0m\u001b[1;32m      2\u001b[0m \u001b[0mtrimmed_dist\u001b[0m\u001b[0;34m.\u001b[0m\u001b[0mshape\u001b[0m\u001b[0;34m\u001b[0m\u001b[0;34m\u001b[0m\u001b[0m\n",
      "\u001b[0;31mNameError\u001b[0m: name 'dist' is not defined"
     ]
    }
   ],
   "source": [
    "trimmed_dist = burn_in(dist, n_removed)\n",
    "trimmed_dist.shape"
   ]
  },
  {
   "cell_type": "code",
   "execution_count": null,
   "id": "introductory-winning",
   "metadata": {},
   "outputs": [],
   "source": [
    "plot_dist(trimmed_dist, 40, psi2_Harmonic, pdfparameters[0])"
   ]
  }
 ],
 "metadata": {
  "kernelspec": {
   "display_name": "Python 3",
   "language": "python",
   "name": "python3"
  },
  "language_info": {
   "codemirror_mode": {
    "name": "ipython",
    "version": 3
   },
   "file_extension": ".py",
   "mimetype": "text/x-python",
   "name": "python",
   "nbconvert_exporter": "python",
   "pygments_lexer": "ipython3",
   "version": "3.8.6"
  }
 },
 "nbformat": 4,
 "nbformat_minor": 5
}
