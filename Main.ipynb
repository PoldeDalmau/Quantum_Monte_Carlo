{
 "cells": [
  {
   "cell_type": "code",
   "execution_count": 1,
   "id": "protecting-paintball",
   "metadata": {},
   "outputs": [],
   "source": [
    "import numpy as np\n",
    "import random\n",
    "import matplotlib.pyplot as plt\n",
    "from time import time"
   ]
  },
  {
   "cell_type": "code",
   "execution_count": 2,
   "id": "overall-ethnic",
   "metadata": {},
   "outputs": [],
   "source": [
    "n_walkers = 40\n",
    "n_hopsperwalker = 30_000\n",
    "\n",
    "n_samples = n_walkers * n_hopsperwalker\n",
    "burn_in = int(3)\n",
    "n_used = n_samples-burn_in*n_walkers\n",
    "\n",
    "hop_size = 1.5                                    # set it in order to get alpha of about 0.5\n",
    "#random.seed(10)"
   ]
  },
  {
   "cell_type": "code",
   "execution_count": 3,
   "id": "stuffed-radio",
   "metadata": {},
   "outputs": [],
   "source": [
    "run -i Skeleton-Copy1.py "
   ]
  },
  {
   "cell_type": "code",
   "execution_count": 4,
   "id": "polish-tanzania",
   "metadata": {},
   "outputs": [
    {
     "name": "stdout",
     "output_type": "stream",
     "text": [
      "alpha: 0.46; integral: -0.353732263487293 $\\pm$ 0.058216993356410625; accepted/total = 0.6902558333333333\n",
      "alpha: 0.9; integral: -0.494816876761526 $\\pm$ 0.0075623390707226035; accepted/total = 0.46248833333333333\n",
      "alpha: 1.0; integral: -0.5 $\\pm$ 0.0; accepted/total = 0.4219625\n",
      "alpha: 1.1; integral: -0.49496766450945995 $\\pm$ 0.011800710223297565; accepted/total = 0.3844241666666667\n",
      "alpha: 1.2; integral: -0.48036796748768323 $\\pm$ 0.04860075779236008; accepted/total = 0.34946166666666667\n",
      "Simulation time in seconds 64.5047013759613\n"
     ]
    }
   ],
   "source": [
    "list_alpha = [0.46, 0.9, 1.0, 1.1, 1.2]\n",
    "#list_alpha = [1]\n",
    "tic = time()\n",
    "for i in list_alpha:\n",
    "    pdfparameters = [i]\n",
    "    functionparameters = [i]\n",
    "    dist_x, dist_y, dist_z, accept_ratio, r_rp, rp_r = mcmc_sample_3D(hops=n_samples, pdf = psi_Hydrogen, pdfparam=pdfparameters)\n",
    "    integral, variance= integrate_3D(func=E_L_Hydrogen, funcparam=functionparameters, dist_x_=dist_x, dist_y_=dist_y, dist_z_=dist_z)\n",
    "    strin = \"alpha: \" + str(i) + \"; integral: \" + str((integral)) + \" $\\pm$ \" + str(variance) + \"; accepted/total = \" + str(accept_ratio)\n",
    "    print(strin)\n",
    "toc = time()\n",
    "print(\"Simulation time in seconds\", toc-tic)"
   ]
  },
  {
   "cell_type": "raw",
   "id": "written-cowboy",
   "metadata": {},
   "source": [
    "a, b = np.copy(r_rp), np.copy(rp_r)\n",
    "plt.hist(b-a, bins = 100)\n",
    "plt.xlabel(\" $p(R)A_{RR'} - p(R')A_{R'R} $ \")\n",
    "plt.ylabel(\"Counts\")\n",
    "plt.title(\"Detailed balance\")\n",
    "plt.show()\n",
    "print(\"max(a-b)\",max(a-b))\n",
    "print(\"max(a)\", max(a))\n",
    "print(\"max(b)\", max(b))\n",
    "print(len(a))"
   ]
  },
  {
   "cell_type": "code",
   "execution_count": 5,
   "id": "alive-former",
   "metadata": {},
   "outputs": [
    {
     "data": {
      "image/png": "[encoded data removed]",
      "text/plain": [
       "<Figure size 432x288 with 1 Axes>"
      ]
     },
     "metadata": {
      "needs_background": "light"
     },
     "output_type": "display_data"
    },
    {
     "name": "stdout",
     "output_type": "stream",
     "text": [
      "1.2478760793443253\n",
      "6.521703418100389\n",
      "max deviation from 0 in $A_{R' R}p(R') - A_{R' R}p(R')$ 5.551115123125783e-17\n"
     ]
    }
   ],
   "source": [
    "#plot_dist(dist_x, 40, psi_Hydrogen, pdfparameters[0])\n",
    "#plot_dist(dist_y, 40, psi_Hydrogen, pdfparameters[0])\n",
    "#plot_dist(dist_z, 40, psi_Hydrogen, pdfparameters[0])\n",
    "dist_x = np.array(dist_x)\n",
    "dist_y = np.array(dist_y)\n",
    "dist_z = np.array(dist_z)\n",
    "#print(\"L_x = \", len(dist_x))\n",
    "#print(\"L_y = \", len(dist_y))\n",
    "#print(\"L_z = \", len(dist_z))\n",
    "dist_r = np.sqrt(dist_x**2 + dist_y**2 + dist_z**2)\n",
    "plot_dist(dist_x, dist_y, dist_z,dist_r, 40, psi_Hydrogen, pdfparameters[0])\n",
    "print(np.average(dist_r))\n",
    "print(np.sqrt(np.pi/(2*0.45))**3)\n",
    "print(\"max deviation from 0 in $A_{R' R}p(R') - A_{R' R}p(R')$\",max(r_rp - rp_r))\n",
    "\n",
    "#path of walkers.\n",
    "#step = np.arange(1,len(dist_r)+1)\n",
    "#plt.plot(step, dist_r)\n",
    "#plt.ylabel(\"r\")\n",
    "#plt.xlabel(\"hop number\")\n",
    "#plt.title(\"path of walkers\")\n",
    "#plt.show()"
   ]
  },
  {
   "cell_type": "raw",
   "id": "important-active",
   "metadata": {},
   "source": [
    "trimmed_dist = burn_in(dist, n_removed)\n",
    "trimmed_dist.shape"
   ]
  },
  {
   "cell_type": "raw",
   "id": "civil-discovery",
   "metadata": {},
   "source": [
    "plot_dist(trimmed_dist, 40, psi2_Harmonic, pdfparameters[0])"
   ]
  }
 ],
 "metadata": {
  "kernelspec": {
   "display_name": "Python 3",
   "language": "python",
   "name": "python3"
  },
  "language_info": {
   "codemirror_mode": {
    "name": "ipython",
    "version": 3
   },
   "file_extension": ".py",
   "mimetype": "text/x-python",
   "name": "python",
   "nbconvert_exporter": "python",
   "pygments_lexer": "ipython3",
   "version": "3.8.6"
  }
 },
 "nbformat": 4,
 "nbformat_minor": 5
}
