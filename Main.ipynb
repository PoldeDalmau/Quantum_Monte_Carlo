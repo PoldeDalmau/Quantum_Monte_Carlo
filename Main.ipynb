{
 "cells": [
  {
   "cell_type": "code",
   "execution_count": 1,
   "id": "cross-harris",
   "metadata": {},
   "outputs": [],
   "source": [
    "import numpy as np\n",
    "import random\n",
    "import matplotlib.pyplot as plt\n",
    "from time import time"
   ]
  },
  {
   "cell_type": "code",
   "execution_count": 2,
   "id": "prepared-america",
   "metadata": {},
   "outputs": [],
   "source": [
    "n_samples = 12_000_000\n",
    "burn_in = int(10_000)\n",
    "n_used = n_samples-burn_in\n",
    "\n",
    "hop_size = 2.2                                       # set it in order to get alpha of about 0.5\n",
    "\n",
    "mean = 0\n",
    "stddev = 1\n",
    "alpha = 0.4\n",
    "pdfparameters = [alpha]\n",
    "functionparameters = [alpha]\n",
    "#random.seed(10)"
   ]
  },
  {
   "cell_type": "code",
   "execution_count": 3,
   "id": "beneficial-buying",
   "metadata": {},
   "outputs": [],
   "source": [
    "run -i Skeleton.py "
   ]
  },
  {
   "cell_type": "code",
   "execution_count": 4,
   "id": "threaded-money",
   "metadata": {},
   "outputs": [
    {
     "name": "stdout",
     "output_type": "stream",
     "text": [
      "alpha: 0.4; integral: 0.5124421214252022 $\\pm$ 0.025279544853041288; accepted/total = 0.5198090833333333\n",
      "alpha: 0.45; integral: 0.5028444937229365 $\\pm$ 0.005581233497265592; accepted/total = 0.49843533333333334\n",
      "alpha: 0.5; integral: 0.5 $\\pm$ 0.0; accepted/total = 0.47996716666666667\n",
      "alpha: 0.55; integral: 0.5022397174138805 $\\pm$ 0.00456041803776199; accepted/total = 0.462741\n",
      "alpha: 0.6; integral: 0.5083430937827454 $\\pm$ 0.01676571844959908; accepted/total = 0.4471056666666667\n",
      "Simulation time in seconds 318.1907150745392\n"
     ]
    }
   ],
   "source": [
    "list_alpha = [0.40, 0.45, 0.50, 0.55, 0.60]\n",
    "#list_alpha = [0.45]\n",
    "tic = time()\n",
    "for i in list_alpha:\n",
    "    pdfparameters = [i]\n",
    "    functionparameters = [i]\n",
    "    integral, variance, acc, r_rp, rp_r  = integrate(pdff=psi2_Harmonic, func=E_L_Harmonic, param=pdfparameters, funcparam=functionparameters)\n",
    "    strin = \"alpha: \" + str(i) + \"; integral: \" + str((integral)) + \" $\\pm$ \" + str(variance) + \"; accepted/total = \" + str(acc)\n",
    "    print(strin)\n",
    "toc = time()\n",
    "print(\"Simulation time in seconds\", toc-tic)"
   ]
  },
  {
   "cell_type": "code",
   "execution_count": 5,
   "id": "elementary-budget",
   "metadata": {},
   "outputs": [
    {
     "data": {
      "image/png": "[encoded data removed]",
      "text/plain": [
       "<Figure size 432x288 with 1 Axes>"
      ]
     },
     "metadata": {
      "needs_background": "light"
     },
     "output_type": "display_data"
    },
    {
     "name": "stdout",
     "output_type": "stream",
     "text": [
      "max(a-b) 5.551115123125783e-17\n",
      "max(a) 0.9999995883349444\n",
      "max(b) 0.9999995883349444\n",
      "11990000\n"
     ]
    }
   ],
   "source": [
    "a, b = np.copy(r_rp), np.copy(rp_r)\n",
    "plt.hist(b-a, bins = 100)\n",
    "plt.xlabel(\" $p(R)A_{RR'} - p(R')A_{R'R} $ \")\n",
    "plt.ylabel(\"Counts\")\n",
    "plt.title(\"Detailed balance\")\n",
    "plt.show()\n",
    "print(\"max(a-b)\",max(a-b))\n",
    "print(\"max(a)\", max(a))\n",
    "print(\"max(b)\", max(b))\n",
    "print(len(a))"
   ]
  }
 ],
 "metadata": {
  "kernelspec": {
   "display_name": "Python 3",
   "language": "python",
   "name": "python3"
  },
  "language_info": {
   "codemirror_mode": {
    "name": "ipython",
    "version": 3
   },
   "file_extension": ".py",
   "mimetype": "text/x-python",
   "name": "python",
   "nbconvert_exporter": "python",
   "pygments_lexer": "ipython3",
   "version": "3.8.6"
  }
 },
 "nbformat": 4,
 "nbformat_minor": 5
}
