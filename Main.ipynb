{
 "cells": [
  {
   "cell_type": "code",
   "execution_count": 1,
   "id": "equivalent-oracle",
   "metadata": {},
   "outputs": [],
   "source": [
    "import numpy as np\n",
    "import random\n",
    "import matplotlib.pyplot as plt"
   ]
  },
  {
   "cell_type": "code",
   "execution_count": 2,
   "id": "emerging-benjamin",
   "metadata": {},
   "outputs": [],
   "source": [
    "n_samples = 12_000_000\n",
    "burn_in = int(10_000)\n",
    "n_used = n_samples-burn_in\n",
    "\n",
    "hop_size = 2.2                                       # set it in order to get alpha of about 0.5\n",
    "\n",
    "mean = 0\n",
    "stddev = 1\n",
    "alpha = 0.4\n",
    "pdfparameters = [alpha]\n",
    "functionparameters = [alpha]\n",
    "#random.seed(10)"
   ]
  },
  {
   "cell_type": "code",
   "execution_count": 3,
   "id": "occupied-outreach",
   "metadata": {},
   "outputs": [],
   "source": [
    "run -i Skeleton.py "
   ]
  },
  {
   "cell_type": "code",
   "execution_count": 4,
   "id": "noble-language",
   "metadata": {},
   "outputs": [
    {
     "name": "stdout",
     "output_type": "stream",
     "text": [
      "alpha: 0.4; integral: 0.5125757389905488 $\\pm$ 0.025346284586645958; accepted/total = 0.5198923333333333\n",
      "alpha: 0.45; integral: 0.5027306018038775 $\\pm$ 0.005565102747746462; accepted/total = 0.4985366666666667\n",
      "alpha: 0.5; integral: 0.5 $\\pm$ 0.0; accepted/total = 0.479717\n",
      "alpha: 0.55; integral: 0.5023512459624633 $\\pm$ 0.0045391647600940485; accepted/total = 0.46232225\n",
      "alpha: 0.6; integral: 0.5083079811386026 $\\pm$ 0.01680330247516094; accepted/total = 0.4468915\n"
     ]
    }
   ],
   "source": [
    "list_alpha = [0.40, 0.45, 0.50, 0.55, 0.60]\n",
    "#list_alpha = [0.45]\n",
    "for i in list_alpha:\n",
    "    pdfparameters = [i]\n",
    "    functionparameters = [i]\n",
    "    integral, variance, acc, r_rp, rp_r  = integrate(pdff=psi2_Harmonic, func=E_L_Harmonic, param=pdfparameters, funcparam=functionparameters)\n",
    "    strin = \"alpha: \" + str(i) + \"; integral: \" + str((integral)) + \" $\\pm$ \" + str(variance) + \"; accepted/total = \" + str(acc)\n",
    "    print(strin)"
   ]
  },
  {
   "cell_type": "code",
   "execution_count": 5,
   "id": "sunrise-europe",
   "metadata": {},
   "outputs": [
    {
     "data": {
      "image/png": "[encoded data removed]",
      "text/plain": [
       "<Figure size 432x288 with 1 Axes>"
      ]
     },
     "metadata": {
      "needs_background": "light"
     },
     "output_type": "display_data"
    },
    {
     "name": "stdout",
     "output_type": "stream",
     "text": [
      "max(a-b) 5.551115123125783e-17\n",
      "max(a) 0.9999993630657025\n",
      "max(b) 0.9999993630657025\n",
      "11990000\n"
     ]
    }
   ],
   "source": [
    "a, b = np.copy(r_rp), np.copy(rp_r)\n",
    "plt.hist(b-a, bins = 100)\n",
    "plt.show()\n",
    "print(\"max(a-b)\",max(a-b))\n",
    "print(\"max(a)\", max(a))\n",
    "print(\"max(b)\", max(b))\n",
    "print(len(a))"
   ]
  }
 ],
 "metadata": {
  "kernelspec": {
   "display_name": "Python 3",
   "language": "python",
   "name": "python3"
  },
  "language_info": {
   "codemirror_mode": {
    "name": "ipython",
    "version": 3
   },
   "file_extension": ".py",
   "mimetype": "text/x-python",
   "name": "python",
   "nbconvert_exporter": "python",
   "pygments_lexer": "ipython3",
   "version": "3.8.6"
  }
 },
 "nbformat": 4,
 "nbformat_minor": 5
}
