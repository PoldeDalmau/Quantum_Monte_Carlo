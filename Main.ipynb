{
 "cells": [
  {
   "cell_type": "code",
   "execution_count": 1,
   "id": "absolute-wrapping",
   "metadata": {},
   "outputs": [],
   "source": [
    "import numpy as np\n",
    "import random\n",
    "import matplotlib.pyplot as plt\n",
    "from time import time"
   ]
  },
  {
   "cell_type": "code",
   "execution_count": 2,
   "id": "optional-diploma",
   "metadata": {},
   "outputs": [],
   "source": [
    "n_walkers = 20\n",
    "n_hopsperwalker = 3_000\n",
    "\n",
    "n_samples = n_walkers * n_hopsperwalker\n",
    "remove = int(1000)\n",
    "n_used = n_samples-remove*n_walkers\n",
    "alpha = 0.2\n",
    "\n",
    "hop_size = 0.42                                    # set it in order to get alpha of about 0.5\n",
    "\n",
    "maxdEda = 0.005                         # minimization won't stop until the derivative of energy is smaller than this number\n",
    "g = .1                                   # damping factor in steepest descent method.\n",
    "onlyoneiteration = False\n",
    "#random.seed(10)"
   ]
  },
  {
   "cell_type": "code",
   "execution_count": 3,
   "id": "meaning-collector",
   "metadata": {},
   "outputs": [],
   "source": [
    "run -i Skeleton.py "
   ]
  },
  {
   "cell_type": "markdown",
   "id": "complete-verification",
   "metadata": {},
   "source": [
    "$\\frac{\\mathrm{d}E(\\alpha)}{\\mathrm{d}\\alpha}  = 2 \\left( \\left<E_L \\frac{\\mathrm{d}\\ln{\\psi_T}}{\\mathrm{d}\\alpha} \\right>-E \\left< \\frac{\\mathrm{d}\\ln{\\psi_T}}{\\mathrm{d}\\alpha} \\right>\\right) $"
   ]
  },
  {
   "cell_type": "code",
   "execution_count": 4,
   "id": "fixed-dispatch",
   "metadata": {},
   "outputs": [
    {
     "name": "stdout",
     "output_type": "stream",
     "text": [
      "acceptance ratio: 0.55275\n",
      "alpha old: 0.20111565325499556 \n",
      " alpha new: 0.20111565325499556 dE/da =  -0.011156532549955411\n",
      "acceptance ratio: 0.5528\n",
      "alpha old: 0.2016946112581617 \n",
      " alpha new: 0.2016946112581617 dE/da =  -0.005789580031661412\n",
      "acceptance ratio: 0.5494666666666667\n",
      "alpha old: 0.20285075507607242 \n",
      " alpha new: 0.20285075507607242 dE/da =  -0.011561438179107153\n",
      "acceptance ratio: 0.5425333333333333\n",
      "alpha old: 0.20346207200863808 \n",
      " alpha new: 0.20346207200863808 dE/da =  -0.006113169325656642\n",
      "acceptance ratio: 0.54455\n",
      "alpha old: 0.2057856115118624 \n",
      " alpha new: 0.2057856115118624 dE/da =  -0.023235395032243034\n",
      "acceptance ratio: 0.5467833333333333\n",
      "alpha old: 0.20683758955350715 \n",
      " alpha new: 0.20683758955350715 dE/da =  -0.01051978041644741\n",
      "acceptance ratio: 0.5490166666666667\n",
      "alpha old: 0.2091242668499059 \n",
      " alpha new: 0.2091242668499059 dE/da =  -0.022866772963987536\n",
      "acceptance ratio: 0.5481666666666667\n",
      "alpha old: 0.2085698676302163 \n",
      " alpha new: 0.2085698676302163 dE/da =  0.005543992196896053\n",
      "acceptance ratio: 0.5461833333333334\n",
      "alpha old: 0.20927311596163925 \n",
      " alpha new: 0.20927311596163925 dE/da =  -0.007032483314229676\n",
      "acceptance ratio: 0.54645\n",
      "alpha old: 0.21031556346372032 \n",
      " alpha new: 0.21031556346372032 dE/da =  -0.010424475020810675\n",
      "acceptance ratio: 0.54685\n",
      "alpha old: 0.21066167048718254 \n",
      " alpha new: 0.21066167048718254 dE/da =  -0.0034610702346222766\n",
      "acceptance ratio: 0.55015\n",
      "alpha old: 0.21097620518878027 \n",
      " alpha new: 0.21097620518878027 dE/da =  -0.00314534701597724\n",
      "acceptance ratio: 0.5518666666666666\n",
      "alpha old: 0.21035436605138821 \n",
      " alpha new: 0.21035436605138821 dE/da =  0.00621839137392044\n",
      "acceptance ratio: 0.5454\n",
      "alpha old: 0.21007122361680108 \n",
      " alpha new: 0.21007122361680108 dE/da =  0.0028314243458713584\n",
      "acceptance ratio: 0.5465833333333333\n",
      "alpha old: 0.21017591911273864 \n",
      " alpha new: 0.21017591911273864 dE/da =  -0.0010469549593756788\n",
      "acceptance ratio: 0.5494166666666667\n",
      "alpha old: 0.21064053367969338 \n",
      " alpha new: 0.21064053367969338 dE/da =  -0.004646145669547241\n",
      "acceptance ratio: 0.5500333333333334\n",
      "alpha old: 0.21002999990120863 \n",
      " alpha new: 0.21002999990120863 dE/da =  0.006105337784847453\n",
      "acceptance ratio: 0.5482166666666667\n",
      "alpha old: 0.2110105186626416 \n",
      " alpha new: 0.2110105186626416 dE/da =  -0.00980518761432947\n",
      "acceptance ratio: 0.5465333333333333\n",
      "alpha old: 0.21223317418806745 \n",
      " alpha new: 0.21223317418806745 dE/da =  -0.012226555254258642\n",
      "acceptance ratio: 0.54585\n",
      "alpha old: 0.21205769432938876 \n",
      " alpha new: 0.21205769432938876 dE/da =  0.0017547985867869542\n",
      "acceptance ratio: 0.5529666666666667\n",
      "alpha old: 0.21216020573927685 \n",
      " alpha new: 0.21216020573927685 dE/da =  -0.0010251140988808416\n",
      "acceptance ratio: 0.5441666666666667\n",
      "alpha old: 0.21281022412081835 \n",
      " alpha new: 0.21281022412081835 dE/da =  -0.0065001838154148395\n",
      "acceptance ratio: 0.5509166666666667\n",
      "alpha old: 0.21234634311448897 \n",
      " alpha new: 0.21234634311448897 dE/da =  0.004638810063293697\n",
      "acceptance ratio: 0.5503\n",
      "alpha old: 0.21147763996860336 \n",
      " alpha new: 0.21147763996860336 dE/da =  0.008687031458856076\n",
      "acceptance ratio: 0.5492\n",
      "alpha old: 0.21149664072907565 \n",
      " alpha new: 0.21149664072907565 dE/da =  -0.00019000760472298595\n",
      "Simulation time in seconds 121.45011878013611\n"
     ]
    }
   ],
   "source": [
    "#Helium\n",
    "#alpha = 0.209768676824719 #most accurate value we found\n",
    "list_alpha = [alpha]\n",
    "list_energies = [-3] # we assign some value to match the legth of the lists. Later we shall remove the first value since it is arbitrarily chosen here.\n",
    "list_deda = [1]\n",
    "tic = time()\n",
    "pdfparameters = list_alpha\n",
    "functionparameters = list_alpha\n",
    "variances = [0]\n",
    "condition = True\n",
    "i = 1\n",
    "while condition:\n",
    "    pdfparameters = [list_alpha[-1]]\n",
    "    functionparameters = [list_alpha[-1]]\n",
    "    dist_x1, dist_y1, dist_z1, dist_x2, dist_y2, dist_z2, accept_ratio, r_rp, rp_r = mcmc_sample_6D(hops=n_samples, pdf = psi2_Helium, pdfparam=pdfparameters)\n",
    "    dist_x1 = burn_in(states=dist_x1, n_removed=remove)\n",
    "    dist_y1 = burn_in(states=dist_y1, n_removed=remove)\n",
    "    dist_z1 = burn_in(states=dist_z1, n_removed=remove)\n",
    "    dist_x2 = burn_in(states=dist_x2, n_removed=remove)\n",
    "    dist_y2 = burn_in(states=dist_y2, n_removed=remove)\n",
    "    dist_z2 = burn_in(states=dist_z2, n_removed=remove)\n",
    "    #integrate to find energy\n",
    "    Energy, variance= integrate_6D(func=E_loc, funcparam=functionparameters, dist_x1_=dist_x1, dist_y1_=dist_y1, dist_z1_=dist_z1, dist_x2_=dist_x2, dist_y2_=dist_y2, dist_z2_=dist_z2)\n",
    "    print(\"acceptance ratio:\",accept_ratio)\n",
    "    #compute derivative \n",
    "    left, _ = integrate_6D(func=E_loc_dlpsida, funcparam=functionparameters, dist_x1_=dist_x1, dist_y1_=dist_y1, dist_z1_=dist_z1, dist_x2_=dist_x2, dist_y2_=dist_y2, dist_z2_=dist_z2)\n",
    "    right, _ = integrate_6D(func=dlnpsida, funcparam=functionparameters, dist_x1_=dist_x1, dist_y1_=dist_y1, dist_z1_=dist_z1, dist_x2_=dist_x2, dist_y2_=dist_y2, dist_z2_=dist_z2)\n",
    "    dEda = 2*(left-Energy*right)\n",
    "    alpha_new = alpha - g*dEda\n",
    "    #alpha_new = list_alpha[-1] + 0.025\n",
    "    \n",
    "    list_energies.append(Energy)\n",
    "    list_alpha.append(alpha_new)\n",
    "    \n",
    "    if abs(dEda) < 0.001:\n",
    "        condition = False\n",
    "    if onlyoneiteration:\n",
    "        condition = False\n",
    "    alpha = alpha_new\n",
    "    variances.append(variance)\n",
    "    list_deda.append(dEda)\n",
    "    print(1,\"alpha old:\", list_alpha[-1], \"\\nalpha new:\", alpha_new, \"dE/da = \", dEda)\n",
    "    i += 1\n",
    "toc = time()\n",
    "print(\"Simulation time in seconds\", toc-tic)"
   ]
  },
  {
   "cell_type": "code",
   "execution_count": 5,
   "id": "metallic-lighting",
   "metadata": {},
   "outputs": [
    {
     "name": "stdout",
     "output_type": "stream",
     "text": [
      "Energy: -2.9061811355896396 Variance: 0.12604691340788304\n"
     ]
    }
   ],
   "source": [
    "print(\"Energy:\", Energy, \"Variance:\", variance)"
   ]
  },
  {
   "cell_type": "code",
   "execution_count": 6,
   "id": "boring-scott",
   "metadata": {},
   "outputs": [
    {
     "data": {
      "image/png": "[encoded data removed]",
      "text/plain": [
       "<Figure size 432x288 with 1 Axes>"
      ]
     },
     "metadata": {
      "needs_background": "light"
     },
     "output_type": "display_data"
    }
   ],
   "source": [
    "E = E_loc(dist_x1, dist_y1, dist_z1, dist_x2, dist_y2, dist_z2, alpha)\n",
    "maxb = 500\n",
    "y = error(E, maxb)\n",
    "x = np.arange(0, maxb)\n",
    "figerr = plt.figure()\n",
    "\n",
    "plt.plot(x,y)\n",
    "plt.title(\"Error from datablocking\")\n",
    "plt.xlabel(\"$b$\")\n",
    "plt.ylabel(r\"$\\sigma_A$\")\n",
    "plt.show()\n",
    "\n",
    "#figerr.savefig(\"Errorwithdatablocking.pdf\", bbox_inches='tight')"
   ]
  },
  {
   "cell_type": "code",
   "execution_count": 7,
   "id": "regional-dress",
   "metadata": {},
   "outputs": [
    {
     "data": {
      "image/png": "[encoded data removed]",
      "text/plain": [
       "<Figure size 432x288 with 1 Axes>"
      ]
     },
     "metadata": {
      "needs_background": "light"
     },
     "output_type": "display_data"
    }
   ],
   "source": [
    "#print(list_energies)\n",
    "fig = plt.figure()\n",
    "\n",
    "plt.plot(np.arange(1,len(list_alpha)+1), list_alpha, marker = \"o\", linestyle = \"none\")\n",
    "plt.yscale('log')\n",
    "plt.title(r\"Minimization to find $\\alpha$\")\n",
    "plt.xlabel(\"Iteration\", fontsize=14)\n",
    "plt.ylabel(r\"$ \\alpha $\", fontsize =14)\n",
    "plt.show()\n",
    "\n",
    "#fig.savefig(\"Helium_minimizationfrombelow.pdf\", bbox_inches='tight')"
   ]
  },
  {
   "cell_type": "code",
   "execution_count": 8,
   "id": "raised-design",
   "metadata": {},
   "outputs": [
    {
     "name": "stdout",
     "output_type": "stream",
     "text": [
      "alpha old: 0.8 \n",
      " alpha new: 0.8210804934382092\n",
      "alpha old: 0.8210804934382092 \n",
      " alpha new: 0.8398168745627008\n",
      "alpha old: 0.8398168745627008 \n",
      " alpha new: 0.8572234499131633\n",
      "alpha old: 0.8572234499131633 \n",
      " alpha new: 0.8709583435344738\n",
      "alpha old: 0.8709583435344738 \n",
      " alpha new: 0.8830509256054478\n",
      "alpha old: 0.8830509256054478 \n",
      " alpha new: 0.8949046429387538\n",
      "alpha old: 0.8949046429387538 \n",
      " alpha new: 0.9055825077922856\n",
      "alpha old: 0.9055825077922856 \n",
      " alpha new: 0.9156795971328956\n",
      "alpha old: 0.9156795971328956 \n",
      " alpha new: 0.9232832300610525\n",
      "alpha old: 0.9232832300610525 \n",
      " alpha new: 0.9322996977317131\n",
      "alpha old: 0.9322996977317131 \n",
      " alpha new: 0.9391800719815857\n",
      "alpha old: 0.9391800719815857 \n",
      " alpha new: 0.945154343595959\n",
      "alpha old: 0.945154343595959 \n",
      " alpha new: 0.9506177918807408\n",
      "alpha old: 0.9506177918807408 \n",
      " alpha new: 0.9557524327867758\n",
      "alpha old: 0.9557524327867758 \n",
      " alpha new: 0.9600980176804068\n",
      "alpha old: 0.9600980176804068 \n",
      " alpha new: 0.9645924209937657\n",
      "alpha old: 0.9645924209937657 \n",
      " alpha new: 0.9683779507620508\n",
      "alpha old: 0.9683779507620508 \n",
      " alpha new: 0.9713994287786677\n",
      "alpha old: 0.9713994287786677 \n",
      " alpha new: 0.9743512266517015\n",
      "alpha old: 0.9743512266517015 \n",
      " alpha new: 0.9768412186693397\n",
      "Simulation time in seconds 14.10095500946045\n"
     ]
    }
   ],
   "source": [
    "#Hydrogen:\n",
    "alpha = 0.8\n",
    "list_alpha = [alpha]\n",
    "list_energies = [-3]\n",
    "list_deda = [1]\n",
    "tic = time()\n",
    "variances = [0]\n",
    "iterations = 20\n",
    "tic = time()\n",
    "\n",
    "for i in range(iterations):\n",
    "    #Hydrogen\n",
    "    pdfparameters = [list_alpha[-1]]\n",
    "    functionparameters = [list_alpha[-1]]\n",
    "    dist_x, dist_y, dist_z, accept_ratio, r_rp, rp_r = mcmc_sample_3D(hops=n_samples, pdf = psi_Hydrogen, pdfparam=pdfparameters)\n",
    "    dist_x = burn_in(states=dist_x, n_removed=remove)\n",
    "    dist_y = burn_in(states=dist_y, n_removed=remove)\n",
    "    dist_z = burn_in(states=dist_z, n_removed=remove)\n",
    "    #integrate to find energy\n",
    "    Energy, variance= integrate_3D(func=E_L_Hydrogen, funcparam=functionparameters, dist_x_=dist_x, dist_y_=dist_y, dist_z_=dist_z)\n",
    "    \n",
    "    #compute derivative \n",
    "    left, _ = integrate_3D(func=E_L_Hydrogentimesr, funcparam=functionparameters, dist_x_=dist_x, dist_y_=dist_y, dist_z_=dist_z)\n",
    "    right, _ = integrate_3D(func=negativer, funcparam=functionparameters, dist_x_=dist_x, dist_y_=dist_y, dist_z_=dist_z)\n",
    "    dEda = 2*(left-Energy*right)\n",
    "    g = 0.1\n",
    "    alpha_new = alpha - g*dEda\n",
    "    #alpha_new = list_alpha[-1] + 0.025\n",
    "    print(\"alpha old:\", list_alpha[-1], \"\\n alpha new:\", alpha_new)\n",
    "    \n",
    "    list_energies.append(Energy)\n",
    "    list_alpha.append(alpha_new)\n",
    "    alpha = alpha_new\n",
    "    variances.append(variance)\n",
    "    list_deda.append(dEda)\n",
    "#Hydrogen normal calculation\n",
    "#for i in list_alpha:\n",
    "#    pdfparameters = [i]\n",
    "#    functionparameters = [i]\n",
    "#    dist_x, dist_y, dist_z, accept_ratio, r_rp, rp_r = mcmc_sample_3D(hops=n_samples, pdf = psi_Hydrogen, pdfparam=pdfparameters)\n",
    "#    integral, variance= integrate_3D(func=E_L_Hydrogen, funcparam=functionparameters, dist_x_=dist_x, dist_y_=dist_y, dist_z_=dist_z)\n",
    "#    strin = \"alpha: \" + str(i) + \"; integral: \" + str((integral)) + \" $\\pm$ \" + str(variance) + \"; accepted/total = \" + str(accept_ratio)\n",
    "#    print(strin)\n",
    "toc = time()\n",
    "print(\"Simulation time in seconds\", toc-tic)"
   ]
  },
  {
   "cell_type": "code",
   "execution_count": null,
   "id": "surgical-paper",
   "metadata": {},
   "outputs": [],
   "source": []
  }
 ],
 "metadata": {
  "kernelspec": {
   "display_name": "Python 3",
   "language": "python",
   "name": "python3"
  },
  "language_info": {
   "codemirror_mode": {
    "name": "ipython",
    "version": 3
   },
   "file_extension": ".py",
   "mimetype": "text/x-python",
   "name": "python",
   "nbconvert_exporter": "python",
   "pygments_lexer": "ipython3",
   "version": "3.8.6"
  }
 },
 "nbformat": 4,
 "nbformat_minor": 5
}
