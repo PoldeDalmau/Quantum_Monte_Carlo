{
 "cells": [
  {
   "cell_type": "code",
   "execution_count": null,
   "id": "distinguished-bowling",
   "metadata": {},
   "outputs": [],
   "source": [
    "def mcmc_sample(hops,pdf, pdfparam):                 \n",
    "    \"\"\"\n",
    "    Samples points for a given function with markov chain monte carlo (mcmc)\n",
    "    Parameters\n",
    "    ----------\n",
    "    pdf: function\n",
    "        function to be sampled\n",
    "    n_samples: int\n",
    "        number of sampled points\n",
    "    pdfparam: list\n",
    "        parameters that the pdf takes (if normal, standard deviation, mean...)    \n",
    "        \n",
    "    possible improvement: make number of walkers a controllable parameter.\n",
    "    \"\"\"\n",
    "    states = []\n",
    "    n_accepted = 0\n",
    "    r_rp = np.zeros(hops)\n",
    "    rp_r = np.zeros(hops)\n",
    "    current = random.uniform(-4,4)                      # generates numbers around zero in a uniform way, only for the first position of the \"walker\"\n",
    "    for i in range(hops):                               # hops is the number of times you \"hop\", i.e. nr of steps...\n",
    "        states.append(current)\n",
    "        movement = current + random.uniform(-hop_size,hop_size)\n",
    "        if i % n_hopsperwalker == 0 and i!=0:\n",
    "            current = random.uniform(-4,4)\n",
    "        curr_prob = pdf(current, *pdfparam)\n",
    "        move_prob = pdf(movement, *pdfparam)            # same prob from 1 to 2 than from 2 to 1, easier in cartesian. Book by jos uses spherical -> would need some scaling \n",
    "                                                        # to account for different volume in spherical shells of different radius. Probably it would be a factor r/r'\n",
    "        \n",
    "        acceptance = min(move_prob/curr_prob,1)         # acceptance is A_RR'\n",
    "        invacceptance = min(curr_prob/move_prob,1)\n",
    "        r_rp[i] = acceptance * curr_prob\n",
    "        rp_r[i] = invacceptance * move_prob\n",
    "        if random_coin(acceptance) and i % n_hopsperwalker != 0:\n",
    "            current = movement\n",
    "            n_accepted += 1\n",
    "            #print(\"accepted\", i, \"n_acc\", n_accepted)\n",
    "    #print (\"accepted/total =\", n_accepted/hops)\n",
    "    \n",
    "    #error\n",
    "    b = 1\n",
    "    N = int(hops-burn_in)\n",
    "    R = states[burn_in:]\n",
    "    S_a = np.zeros((N, 1))\n",
    "    for b in range(1, N):\n",
    "        Nb = int(N/b)\n",
    "        r=np.zeros(Nb)\n",
    "        R=R[:(Nb*b)]\n",
    "        R_shape=np.reshape(R, (Nb,b))\n",
    "        R = states[burn_in:]\n",
    "        r = np.sum(R_shape, axis = 1)/b\n",
    "        S_a[b]=np.sqrt((1/(Nb-1))*(((1/Nb)*np.sum(np.square(r)))-np.square((1/Nb)*np.sum(r))))\n",
    "\n",
    "    return states[burn_in:], n_accepted/hops, r_rp[burn_in:], rp_r[burn_in:]                            # give the system some time to find a reasonable starting point. "
   ]
  }
 ],
 "metadata": {
  "kernelspec": {
   "display_name": "Python 3",
   "language": "python",
   "name": "python3"
  },
  "language_info": {
   "codemirror_mode": {
    "name": "ipython",
    "version": 3
   },
   "file_extension": ".py",
   "mimetype": "text/x-python",
   "name": "python",
   "nbconvert_exporter": "python",
   "pygments_lexer": "ipython3",
   "version": "3.8.6"
  }
 },
 "nbformat": 4,
 "nbformat_minor": 5
}
